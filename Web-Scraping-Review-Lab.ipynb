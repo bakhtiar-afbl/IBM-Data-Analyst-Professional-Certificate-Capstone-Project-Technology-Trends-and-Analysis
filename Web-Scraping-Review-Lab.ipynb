{
    "cells": [
        {
            "cell_type": "markdown",
            "metadata": {},
            "source": "<center>\n    <img src=\"https://gitlab.com/ibm/skills-network/courses/placeholder101/-/raw/master/labs/module%201/images/IDSNlogo.png\" width=\"300\" alt=\"cognitiveclass.ai logo\"  />\n</center>\n"
        },
        {
            "cell_type": "markdown",
            "metadata": {},
            "source": "# **Web Scraping Lab**\n"
        },
        {
            "cell_type": "markdown",
            "metadata": {},
            "source": "Estimated time needed: **30** minutes\n"
        },
        {
            "cell_type": "markdown",
            "metadata": {},
            "source": "## Objectives\n"
        },
        {
            "cell_type": "markdown",
            "metadata": {},
            "source": "After completing this lab you will be able to:\n"
        },
        {
            "cell_type": "markdown",
            "metadata": {},
            "source": "*   Download a webpage using requests module\n*   Scrape all links from a web page\n*   Scrape all image urls from a web page\n*   Scrape data from html tables\n"
        },
        {
            "cell_type": "markdown",
            "metadata": {},
            "source": "## Scrape [www.ibm.com](http://www.ibm.com/?utm_medium=Exinfluencer&utm_source=Exinfluencer&utm_content=000026UJ&utm_term=10006555&utm_id=NA-SkillsNetwork-Channel-SkillsNetworkCoursesIBMDA0321ENSkillsNetwork21426264-2021-01-01)\n"
        },
        {
            "cell_type": "markdown",
            "metadata": {},
            "source": "Import the required modules and functions\n"
        },
        {
            "cell_type": "code",
            "execution_count": 1,
            "metadata": {},
            "outputs": [],
            "source": "from bs4 import BeautifulSoup # this module helps in web scrapping.\nimport requests  # this module helps us to download a web page"
        },
        {
            "cell_type": "markdown",
            "metadata": {},
            "source": "Download the contents of the web page\n"
        },
        {
            "cell_type": "code",
            "execution_count": 2,
            "metadata": {},
            "outputs": [],
            "source": "url = \"http://www.ibm.com\""
        },
        {
            "cell_type": "code",
            "execution_count": 3,
            "metadata": {},
            "outputs": [],
            "source": "# get the contents of the webpage in text format and store in a variable called data\ndata  = requests.get(url).text "
        },
        {
            "cell_type": "markdown",
            "metadata": {},
            "source": "Create a soup object using the class BeautifulSoup\n"
        },
        {
            "cell_type": "code",
            "execution_count": 4,
            "metadata": {},
            "outputs": [],
            "source": "soup = BeautifulSoup(data,\"html5lib\")  # create a soup object using the variable 'data'"
        },
        {
            "cell_type": "markdown",
            "metadata": {},
            "source": "Scrape all links\n"
        },
        {
            "cell_type": "code",
            "execution_count": 5,
            "metadata": {},
            "outputs": [
                {
                    "name": "stdout",
                    "output_type": "stream",
                    "text": "https://www.ibm.com/jp/ja\nhttps://www.ibm.com/sitemap/jp/ja\nhttps://www.ibm.com/resources/technology-showcase/?lnk=jphpv18l1&lnk2=learn\nhttps://www.ibm.com/jp-ja/case-studies/toyoda-gosei?lnk=jphpv18f1&lnk2=learn\nhttps://www.ibm.com/blogs/think/jp-ja/change-mindset-of-internal-dx-management-and-employees/?lnk=jphpv18f2&lnk2=learn\nhttps://www.ibm.com/blogs/solutions/jp-ja/connect-with-ibm/?lnk=jphpv18f3&lnk2=learn\n/jp-ja/products/trials?lnk=STW_JP_HPT_C1_TL&lnk2=trial_THP&psrc=none&pexp=def\nhttps://www.ibm.com/jp-ja/products/watson-assistant?contactmodule=%3Flnk%3DSTW_JP_HPT_T1_BTN&link2=trial_WatAssist&psrc=none&pexp=def\nhttps://www.ibm.com/jp-ja/cloud/websphere-hybrid-edition?contactmodule=%3Flnk%3DSTW_JP_HPT_T2_BTN&link2=trial_WSHybrid&psrc=none&pexp=def\nhttps://www.ibm.com/jp-ja/cloud/instana?contactmodule=%3Flnk%3DSTW_JP_HPT_T3_BTN&lnk2=trial_Instana&psrc=none&pexp=def\nhttps://www.ibm.com/jp-ja/cloud/aspera?contactmodule=%3Flnk%3DSTW_JP_HPT_T4_BTN&lnk2=trial_Aspera&psrc=none&pexp=def\n/jp-ja/cloud/hybrid?lnk=hpv18pt14\n/cloud/learn/public-cloud?lnk=hpv18ct1\n/jp-ja/watson?lnk=ushpv18pt17\n/jp-ja/garage?lnk=hpv18pt13\n/jp-ja/blockchain?lnk=hpv18pt4\nhttps://www.ibm.com/jp-ja/analytics?lnk=hpv18pt1\n/jp-ja/security?lnk=hpv18pt9\n/jp-ja/quantum-computing?lnk=hpv18pt16\n/jp-ja/financing?lnk=hpv18pt3\nhttps://www.ibm.com/services/jp-ja/studies/thoughtleadership/?lnk=hpv18pt12\nhttps://developer.ibm.com/depmodels/cloud/?lnk=hpv18ct16\nhttps://developer.ibm.com/technologies/artificial-intelligence?lnk=hpv18ct19\nhttps://www.ibm.com/demos/?lc=ja&lnk=hpv18ct12\nhttps://developer.ibm.com/?lnk=hpv18ct9\nhttps://www.ibm.com/support/knowledgecenter/ja/?lnk=hpv18ct14\nhttps://www.redbooks.ibm.com/?lnk=ushpv18ct10\nhttps://www.ibm.com/mysupport/s/?language=ja&lnk=hpv18ct11\nhttps://www.ibm.com/training/?lnk=hpv18ct15\n/jp-ja/smarter-business?lnk=hpv18ct20\n/jp-ja/cloud/application-modernization?lnk=hpv18ct1\nhttps://www.ibm.com/jp-ja/analytics/data-fabric?lnk=hpv18ct21\n/jp-ja/watson?lnk=hpv18ct3\n/jp-ja/quantum-computing?lnk=hpv18ct18\n/jp-ja/cloud/redhat?lnk=hpv18ct13\n/jp-ja/cloud/kubernetes-service?lnk=hpv18ct8\n/jp-ja/products/spss-statistics?lnk=ushpv18ct7\nhttps://www.ibm.com/jp-ja/employment/?lnk=hpv18ct2\nhttps://community.ibm.com/community/user/japan/communities/community-home?CommunityKey=3b96b011-ce63-4591-96d3-e94a4861a3bf&lnk=hpv18cs1\nhttps://www.ibm.com/industries/jp/ja/case-studies/?lnk=hpv18cs2\n#\n"
                }
            ],
            "source": "for link in soup.find_all('a'):  # in html anchor/link is represented by the tag <a>\n    print(link.get('href'))"
        },
        {
            "cell_type": "markdown",
            "metadata": {},
            "source": "Scrape  all images\n"
        },
        {
            "cell_type": "code",
            "execution_count": 6,
            "metadata": {},
            "outputs": [
                {
                    "name": "stdout",
                    "output_type": "stream",
                    "text": "//1.cms.s81c.com/sites/default/files/2022-01-28/this-week-at-ibm-toyoda-gosei-20220131-444x254.jpg\n//1.cms.s81c.com/sites/default/files/2022-01-28/this-week-at-ibm-change-mindset-of-internal-20220131-444x254.jpg\n//1.cms.s81c.com/sites/default/files/2021-12-10/this-week-at-ibm-mail-20211213-444x254-min.jpg\n//1.cms.s81c.com/sites/default/files/2021-11-08/Watson-Assistant-23212-700x420.png\n//1.cms.s81c.com/sites/default/files/2021-11-08/WebSphere-Hybrid-Edition-700x420.gif\n//1.cms.s81c.com/sites/default/files/2021-09-15/Instana-trial-444x260.png\n//1.cms.s81c.com/sites/default/files/2021-06-11/aspera-trial.png\n"
                }
            ],
            "source": "for link in soup.find_all('img'):# in html image is represented by the tag <img>\n    print(link.get('src'))"
        },
        {
            "cell_type": "markdown",
            "metadata": {},
            "source": "## Scrape data from html tables\n"
        },
        {
            "cell_type": "code",
            "execution_count": 7,
            "metadata": {},
            "outputs": [],
            "source": "#The below url contains a html table with data about colors and color codes."
        },
        {
            "cell_type": "code",
            "execution_count": 8,
            "metadata": {},
            "outputs": [],
            "source": "url = \"https://cf-courses-data.s3.us.cloud-object-storage.appdomain.cloud/IBM-DA0321EN-SkillsNetwork/labs/datasets/HTMLColorCodes.html\""
        },
        {
            "cell_type": "markdown",
            "metadata": {},
            "source": "Before proceeding to scrape a web site, you need to examine the contents, and the way data is organized on the website. Open the above url in your browser and check how many rows and columns are there in the color table.\n"
        },
        {
            "cell_type": "code",
            "execution_count": 9,
            "metadata": {},
            "outputs": [],
            "source": "# get the contents of the webpage in text format and store in a variable called data\ndata  = requests.get(url).text"
        },
        {
            "cell_type": "code",
            "execution_count": 10,
            "metadata": {},
            "outputs": [],
            "source": "soup = BeautifulSoup(data,\"html5lib\")"
        },
        {
            "cell_type": "code",
            "execution_count": 11,
            "metadata": {},
            "outputs": [],
            "source": "#find a html table in the web page\ntable = soup.find('table') # in html table is represented by the tag <table>"
        },
        {
            "cell_type": "code",
            "execution_count": 12,
            "metadata": {},
            "outputs": [
                {
                    "name": "stdout",
                    "output_type": "stream",
                    "text": "Color Name--->Hex Code#RRGGBB\nlightsalmon--->#FFA07A\nsalmon--->#FA8072\ndarksalmon--->#E9967A\nlightcoral--->#F08080\ncoral--->#FF7F50\ntomato--->#FF6347\norangered--->#FF4500\ngold--->#FFD700\norange--->#FFA500\ndarkorange--->#FF8C00\nlightyellow--->#FFFFE0\nlemonchiffon--->#FFFACD\npapayawhip--->#FFEFD5\nmoccasin--->#FFE4B5\npeachpuff--->#FFDAB9\npalegoldenrod--->#EEE8AA\nkhaki--->#F0E68C\ndarkkhaki--->#BDB76B\nyellow--->#FFFF00\nlawngreen--->#7CFC00\nchartreuse--->#7FFF00\nlimegreen--->#32CD32\nlime--->#00FF00\nforestgreen--->#228B22\ngreen--->#008000\npowderblue--->#B0E0E6\nlightblue--->#ADD8E6\nlightskyblue--->#87CEFA\nskyblue--->#87CEEB\ndeepskyblue--->#00BFFF\nlightsteelblue--->#B0C4DE\ndodgerblue--->#1E90FF\n"
                }
            ],
            "source": "#Get all rows from the table\nfor row in table.find_all('tr'): # in html table row is represented by the tag <tr>\n    # Get all columns in each row.\n    cols = row.find_all('td') # in html a column is represented by the tag <td>\n    color_name = cols[2].getText() # store the value in column 3 as color_name\n    color_code = cols[3].getText() # store the value in column 4 as color_code\n    print(\"{}--->{}\".format(color_name,color_code))"
        },
        {
            "cell_type": "markdown",
            "metadata": {},
            "source": "## Authors\n"
        },
        {
            "cell_type": "markdown",
            "metadata": {},
            "source": "Ramesh Sannareddy\n"
        },
        {
            "cell_type": "markdown",
            "metadata": {},
            "source": "### Other Contributors\n"
        },
        {
            "cell_type": "markdown",
            "metadata": {},
            "source": "Rav Ahuja\n"
        },
        {
            "cell_type": "markdown",
            "metadata": {},
            "source": "## Change Log\n"
        },
        {
            "cell_type": "markdown",
            "metadata": {},
            "source": "| Date (YYYY-MM-DD) | Version | Changed By        | Change Description                 |\n| ----------------- | ------- | ----------------- | ---------------------------------- |\n| 2020-10-17        | 0.1     | Ramesh Sannareddy | Created initial version of the lab |\n"
        },
        {
            "cell_type": "markdown",
            "metadata": {},
            "source": "Copyright \u00a9 2020 IBM Corporation. This notebook and its source code are released under the terms of the [MIT License](https://cognitiveclass.ai/mit-license/?utm_medium=Exinfluencer&utm_source=Exinfluencer&utm_content=000026UJ&utm_term=10006555&utm_id=NA-SkillsNetwork-Channel-SkillsNetworkCoursesIBMDA0321ENSkillsNetwork21426264-2021-01-01).\n"
        }
    ],
    "metadata": {
        "kernelspec": {
            "display_name": "Python 3.8",
            "language": "python",
            "name": "python3"
        },
        "language_info": {
            "codemirror_mode": {
                "name": "ipython",
                "version": 3
            },
            "file_extension": ".py",
            "mimetype": "text/x-python",
            "name": "python",
            "nbconvert_exporter": "python",
            "pygments_lexer": "ipython3",
            "version": "3.8.12"
        }
    },
    "nbformat": 4,
    "nbformat_minor": 4
}